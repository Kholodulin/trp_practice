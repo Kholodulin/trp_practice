{
 "cells": [
  {
   "cell_type": "code",
   "execution_count": null,
   "id": "1e9ced4c-8681-49df-81a3-3920743e1ed7",
   "metadata": {},
   "outputs": [],
   "source": [
    "import numpy as np\n",
    "import matplotlib.pyplot as plt\n",
    "\n",
    "time = np.linspace(0, 10, 100)\n",
    "data = np.sin(time) + np.random.normal(scale=0.1, size=100)\n",
    "\n",
    "plt.plot(time, data, label='Измерения')\n",
    "plt.title('График')\n",
    "plt.xlabel('Время')\n",
    "plt.ylabel('Значения')\n",
    "plt.legend()\n",
    "plt.show()"
   ]
  }
 ],
 "metadata": {
  "kernelspec": {
   "display_name": "Python 3 (ipykernel)",
   "language": "python",
   "name": "python3"
  },
  "language_info": {
   "codemirror_mode": {
    "name": "ipython",
    "version": 3
   },
   "file_extension": ".py",
   "mimetype": "text/x-python",
   "name": "python",
   "nbconvert_exporter": "python",
   "pygments_lexer": "ipython3",
   "version": "3.12.0"
  }
 },
 "nbformat": 4,
 "nbformat_minor": 5
}
